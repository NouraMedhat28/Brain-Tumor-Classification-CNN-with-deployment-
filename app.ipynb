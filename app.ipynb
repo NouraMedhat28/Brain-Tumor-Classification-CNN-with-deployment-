{
 "cells": [
  {
   "cell_type": "code",
   "execution_count": 1,
   "metadata": {},
   "outputs": [
    {
     "name": "stdout",
     "output_type": "stream",
     "text": [
      " * Serving Flask app '__main__'\n",
      " * Debug mode: off\n"
     ]
    },
    {
     "name": "stderr",
     "output_type": "stream",
     "text": [
      "WARNING: This is a development server. Do not use it in a production deployment. Use a production WSGI server instead.\n",
      " * Running on http://127.0.0.1:5000\n",
      "Press CTRL+C to quit\n",
      "127.0.0.1 - - [17/Nov/2022 19:53:29] \"GET / HTTP/1.1\" 200 -\n",
      "127.0.0.1 - - [17/Nov/2022 20:00:10] \"POST /ProcessUserinfo/$%7BJSON.stringify(userImage)%7D HTTP/1.1\" 404 -\n"
     ]
    },
    {
     "name": "stdout",
     "output_type": "stream",
     "text": [
      "ImmutableMultiDict([('file', <FileStorage: 'image (4).jpg' ('image/jpeg')>)])\n",
      "Aliiiiiii\n",
      "1/1 [==============================] - 0s 318ms/step\n"
     ]
    },
    {
     "name": "stderr",
     "output_type": "stream",
     "text": [
      "127.0.0.1 - - [17/Nov/2022 20:00:21] \"POST /submit HTTP/1.1\" 200 -\n"
     ]
    },
    {
     "name": "stdout",
     "output_type": "stream",
     "text": [
      "[[3.1256748e-03 1.6010251e-02 6.2949926e-01 3.5136479e-01]\n",
      " [2.4515089e-06 1.4706563e-06 1.4110637e-01 8.5888976e-01]\n",
      " [9.7801039e-06 1.1656309e-08 5.8456226e-06 9.9998438e-01]]\n",
      "11\n",
      "AAAAAAAAAAA\n"
     ]
    },
    {
     "name": "stderr",
     "output_type": "stream",
     "text": [
      "127.0.0.1 - - [17/Nov/2022 20:00:21] \"GET /static/image%20(4).jpg HTTP/1.1\" 200 -\n",
      "127.0.0.1 - - [17/Nov/2022 20:00:32] \"GET / HTTP/1.1\" 200 -\n",
      "127.0.0.1 - - [17/Nov/2022 20:00:34] \"POST /ProcessUserinfo/$%7BJSON.stringify(userImage)%7D HTTP/1.1\" 404 -\n"
     ]
    },
    {
     "name": "stdout",
     "output_type": "stream",
     "text": [
      "ImmutableMultiDict([('file', <FileStorage: 'image (11).jpg' ('image/jpeg')>)])\n",
      "Aliiiiiii\n",
      "1/1 [==============================] - 0s 104ms/step\n"
     ]
    },
    {
     "name": "stderr",
     "output_type": "stream",
     "text": [
      "127.0.0.1 - - [17/Nov/2022 20:00:45] \"POST /submit HTTP/1.1\" 200 -\n"
     ]
    },
    {
     "name": "stdout",
     "output_type": "stream",
     "text": [
      "[[1.1404902e-04 1.3691273e-06 9.9948800e-01 3.9657406e-04]\n",
      " [6.4218722e-07 1.7147204e-04 2.8166693e-01 7.1816093e-01]\n",
      " [1.0799354e-06 4.2119439e-04 2.2946822e-05 9.9955469e-01]]\n",
      "11\n",
      "AAAAAAAAAAA\n"
     ]
    },
    {
     "name": "stderr",
     "output_type": "stream",
     "text": [
      "127.0.0.1 - - [17/Nov/2022 20:00:45] \"GET /static/image%20(11).jpg HTTP/1.1\" 200 -\n"
     ]
    }
   ],
   "source": [
    "from flask import Flask, render_template, request\n",
    "from keras.models import load_model\n",
    "from keras.preprocessing import image\n",
    "import numpy as np\n",
    "\n",
    "app = Flask(__name__)\n",
    "\n",
    "dic = {0 : 'No Tumor Found ;)', 1 : 'Found Pituitary Tumor',2:'Found Meningioma Tumor',3:'Found Glioma Tumor'\n",
    ",4:'No Tumor Found ;)',5:'Found Pituitary Tumor',6:'Found Meningioma Tumor',7:'Found Glioma Tumor'\n",
    "       ,8:'No Tumor Found ;)',9:'Found Pituitary Tumor',10:'Found Meningioma Tumor',11:'No Tumor Found ;)'}\n",
    "\n",
    "model = load_model('kaggle_model_2.h5')\n",
    "\n",
    "model.make_predict_function()\n",
    "\n",
    "def predict_label(img_path):\n",
    "    print(\"Aliiiiiii\")\n",
    "    i=image.image_utils.load_img(img_path, target_size=(150, 150))\n",
    "    #i = image.load_img(img_path, target_size=(100,100))\n",
    "    #i = image.img_to_array(i)/255.0\n",
    "    i=image.image_utils.img_to_array(i)/255.0\n",
    "    i = i.reshape(-1,150, 150, 1)\n",
    "    p = model.predict(i)\n",
    "    p2  = np.argmax(p,axis=1)\n",
    "    \n",
    "    print(p)\n",
    "    print(np.argmax(p))\n",
    "    \n",
    "    return dic[np.argmax(p)]\n",
    "    '''x=[p[0][0],p[1][0],p[2][0],p[0][1],p[1][1],p[2][1],p[0][2],p[1][2],p[2][2],p[0][3],p[1][3],p[2][3]]\n",
    "    if max(x)== p[0][0] or max(x)==p[1][0]or max(x)==p[2][0]:\n",
    "        s= 0\n",
    "        return dic[s]\n",
    "    elif max(x)==p[0][1] or max(x)==p[1][1] or max(x)==p[2][1]:\n",
    "        s= 1\n",
    "        return dic[s]\n",
    "\n",
    "    elif max(x)==p[0][2] or max(x)==p[1][2] or max(x)==p[2][2]:\n",
    "        s= 2\n",
    "        return dic[s]\n",
    " \n",
    "    elif max(x)==p[0][3] or max(x)==p[1][3] or max(x)==p[2][3]:\n",
    "        s= 3            \n",
    "        return dic[s]'''\n",
    "\n",
    "\n",
    "# routes\n",
    "@app.route(\"/\", methods=['GET', 'POST'])\n",
    "def main():\n",
    "    return render_template(\"predcit.html\")\n",
    "\n",
    "@app.route(\"/main\", methods=['GET', 'POST'])\n",
    "def test():\n",
    "    return render_template(\"base.html\")\n",
    "\n",
    "\n",
    "@app.route(\"/submit\", methods = ['GET', 'POST'])\n",
    "def get_output():\n",
    "    if request.method == 'POST':\n",
    "        #print(request.files)\n",
    "        img = request.files['file']\n",
    "\n",
    "        img_path = \"static/\" + img.filename\n",
    "        print(request.files)\n",
    "        img.save(img_path)\n",
    "\n",
    "        p = predict_label(img_path)\n",
    "        print(\"AAAAAAAAAAA\")\n",
    "        return render_template(\"predcit.html\", prediction = p, img_path = img_path)\n",
    "    return render_template(\"predcit.html\")\n",
    "\n",
    "\n",
    "if __name__ =='__main__':\n",
    "    #app.debug = True\n",
    "    app.run()"
   ]
  },
  {
   "cell_type": "code",
   "execution_count": 2,
   "metadata": {},
   "outputs": [
    {
     "data": {
      "text/plain": [
       "22500"
      ]
     },
     "execution_count": 2,
     "metadata": {},
     "output_type": "execute_result"
    }
   ],
   "source": [
    "150*150"
   ]
  },
  {
   "cell_type": "code",
   "execution_count": 1,
   "metadata": {},
   "outputs": [
    {
     "name": "stdout",
     "output_type": "stream",
     "text": [
      " * Serving Flask app '__main__'\n",
      " * Debug mode: on\n"
     ]
    },
    {
     "name": "stderr",
     "output_type": "stream",
     "text": [
      "WARNING: This is a development server. Do not use it in a production deployment. Use a production WSGI server instead.\n",
      " * Running on http://127.0.0.1:8000\n",
      "Press CTRL+C to quit\n",
      "127.0.0.1 - - [16/Nov/2022 18:40:54] \"GET / HTTP/1.1\" 200 -\n",
      "127.0.0.1 - - [16/Nov/2022 18:41:03] \"POST /submit HTTP/1.1\" 404 -\n"
     ]
    }
   ],
   "source": [
    "from flask import Flask, render_template, request\n",
    "from tensorflow.keras.models import load_model\n",
    "import numpy as np\n",
    "from tensorflow.keras.preprocessing.image import load_img\n",
    "from tensorflow.keras.applications.vgg16 import preprocess_input\n",
    "import os\n",
    "from tensorflow.keras.preprocessing import image\n",
    "app = Flask(__name__)\n",
    "model = load_model('kaggle_model_2.h5')\n",
    "target_img = os.path.join(os.getcwd() , 'static/img')\n",
    "@app.route('/')\n",
    "def index_view():\n",
    "    return render_template('index2.html')\n",
    "#Allow files with extension png, jpg and jpeg\n",
    "ALLOWED_EXT = set(['jpg' , 'jpeg' , 'png'])\n",
    "def allowed_file(filename):\n",
    "    return '.' in filename and \\\n",
    "           filename.rsplit('.', 1)[1] in ALLOWED_EXT\n",
    "           \n",
    "# Function to load and prepare the image in right shape\n",
    "def read_image(filename):\n",
    "   img = load_img(filename, target_size=(224, 224))\n",
    "   x = image.img_to_array(img)\n",
    "   x = np.expand_dims(x, axis=0)\n",
    "   x = preprocess_input(x)\n",
    "   return x\n",
    "\n",
    "\n",
    "@app.route('/predict',methods=['GET','POST'])\n",
    "def predict():\n",
    "    if request.method == 'POST':\n",
    "        file = request.files['file']\n",
    "        if file and allowed_file(file.filename): #Checking file format\n",
    "            filename = file.filename\n",
    "            file_path = os.path.join('static/images', filename)\n",
    "            file.save(file_path)\n",
    "            img = read_image(file_path) #prepressing method\n",
    "            class_prediction=model.predict(img) \n",
    "            classes_x=np.argmax(class_prediction,axis=1)\n",
    "            if classes_x == 0:\n",
    "              fruit = \"no\"\n",
    "            elif classes_x == 1:\n",
    "              fruit = \"1\"\n",
    "            elif classes_x == 2:\n",
    "                  fruit = \"2\"\n",
    "            else:\n",
    "              fruit = \"3\"\n",
    "            #'fruit' , 'prob' . 'user_image' these names we have seen in predict.html.\n",
    "            return render_template('predict.html', fruit = fruit,prob=class_prediction, user_image = file_path)\n",
    "        else:\n",
    "            return \"Unable to read the file. Please check file extension\"\n",
    "if __name__ == '__main__':\n",
    "    app.run(debug=True,use_reloader=False, port=8000)"
   ]
  },
  {
   "cell_type": "code",
   "execution_count": null,
   "metadata": {},
   "outputs": [],
   "source": []
  }
 ],
 "metadata": {
  "kernelspec": {
   "display_name": "Python 3.10.8 64-bit (microsoft store)",
   "language": "python",
   "name": "python3"
  },
  "language_info": {
   "codemirror_mode": {
    "name": "ipython",
    "version": 3
   },
   "file_extension": ".py",
   "mimetype": "text/x-python",
   "name": "python",
   "nbconvert_exporter": "python",
   "pygments_lexer": "ipython3",
   "version": "3.10.8"
  },
  "orig_nbformat": 4,
  "vscode": {
   "interpreter": {
    "hash": "7536d7b229462f4296d4c0dae49c3bd6cd3990c783d6b9d88ce3c31a78605890"
   }
  }
 },
 "nbformat": 4,
 "nbformat_minor": 2
}
